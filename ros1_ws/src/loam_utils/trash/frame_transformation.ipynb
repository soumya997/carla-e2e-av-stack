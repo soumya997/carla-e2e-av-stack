{
 "cells": [
  {
   "cell_type": "code",
   "execution_count": 1,
   "metadata": {},
   "outputs": [],
   "source": [
    "import numpy as np\n",
    "from scipy.spatial.transform import Rotation as R\n",
    "\n",
    "# Source quaternion and position\n",
    "source_quat = [-9.835933849850075e-05, -3.1290452066124376e-05, 0.00032596024859776415, 0.9999999415481308]\n",
    "source_pos = [0.01693921645885583, -0.0019361239704956653, 0.0006106553212857983]\n",
    "\n",
    "# Target quaternion and position\n",
    "target_quat = [1.2915154991739152e-07, 3.7550912103400815e-05, -0.00010055051711756224, 0.9999999942397528]\n",
    "target_pos = [124.72284698486328, -198.7583770751953, 0.0017056845827028155]\n",
    "\n",
    "# Convert quaternions to rotation matrices\n",
    "source_rotation = R.from_quat(source_quat).as_matrix()\n",
    "target_rotation = R.from_quat(target_quat).as_matrix()"
   ]
  },
  {
   "cell_type": "code",
   "execution_count": 2,
   "metadata": {},
   "outputs": [
    {
     "name": "stdout",
     "output_type": "stream",
     "text": [
      "Relative Rotation Matrix:\n",
      " [[ 9.99999627e-01  8.53042368e-04  1.37579008e-04]\n",
      " [-8.53015254e-04  9.99999617e-01 -1.97017487e-04]\n",
      " [-1.37747020e-04  1.96900057e-04  9.99999971e-01]]\n",
      "Relative Translation Vector:\n",
      " [ 1.24705909e+02 -1.98756426e+02  1.09774383e-03]\n"
     ]
    }
   ],
   "source": [
    "# Compute the relative rotation\n",
    "relative_rotation = target_rotation @ np.linalg.inv(source_rotation)\n",
    "\n",
    "# Compute the relative translation\n",
    "relative_translation = np.array(target_pos) - relative_rotation @ np.array(source_pos)\n",
    "\n",
    "print(\"Relative Rotation Matrix:\\n\", relative_rotation)\n",
    "print(\"Relative Translation Vector:\\n\", relative_translation)\n"
   ]
  },
  {
   "cell_type": "code",
   "execution_count": 3,
   "metadata": {},
   "outputs": [
    {
     "name": "stdout",
     "output_type": "stream",
     "text": [
      "Quaternion (x, y, z, w): [ 9.84793956e-05  6.88315138e-05 -4.26514447e-04  9.99999902e-01]\n",
      "Translation (x, y, z): [ 1.24705909e+02 -1.98756426e+02  1.09774383e-03]\n"
     ]
    }
   ],
   "source": [
    "from scipy.spatial.transform import Rotation as R\n",
    "import numpy as np\n",
    "\n",
    "\n",
    "\n",
    "# Convert rotation matrix to quaternion\n",
    "rotation_quat = R.from_matrix(relative_rotation).as_quat()  # [x, y, z, w]\n",
    "\n",
    "print(\"Quaternion (x, y, z, w):\", rotation_quat)\n",
    "print(\"Translation (x, y, z):\", relative_translation)\n"
   ]
  },
  {
   "cell_type": "code",
   "execution_count": null,
   "metadata": {},
   "outputs": [],
   "source": []
  },
  {
   "cell_type": "code",
   "execution_count": null,
   "metadata": {},
   "outputs": [],
   "source": []
  },
  {
   "cell_type": "code",
   "execution_count": null,
   "metadata": {},
   "outputs": [],
   "source": []
  }
 ],
 "metadata": {
  "kernelspec": {
   "display_name": ".somusanenv",
   "language": "python",
   "name": "python3"
  },
  "language_info": {
   "codemirror_mode": {
    "name": "ipython",
    "version": 3
   },
   "file_extension": ".py",
   "mimetype": "text/x-python",
   "name": "python",
   "nbconvert_exporter": "python",
   "pygments_lexer": "ipython3",
   "version": "3.10.13"
  }
 },
 "nbformat": 4,
 "nbformat_minor": 2
}
